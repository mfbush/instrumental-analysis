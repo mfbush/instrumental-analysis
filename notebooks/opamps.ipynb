{
 "cells": [
  {
   "cell_type": "markdown",
   "metadata": {},
   "source": [
    "# Operational Amplifiers\n",
    "\n",
    "## Learning Objectives\n",
    "*At the conclusion of in-class and outside learning, participants will be able to:*\n"
   ]
  }
 ],
 "metadata": {
  "language_info": {
   "name": "python"
  }
 },
 "nbformat": 4,
 "nbformat_minor": 2
}
