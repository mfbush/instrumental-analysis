{
 "cells": [
  {
   "cell_type": "markdown",
   "metadata": {},
   "source": [
    "# Operational Amplifiers\n",
    "\n",
    "## Learning Objectives\n",
    "*At the conclusion of in-class and outside learning, participants will be able to:*\n"
   ]
  },
  {
   "cell_type": "markdown",
   "metadata": {},
   "source": [
    "## Electricity and Chemistry\n",
    "\n",
    "$$ q = \\eta \\cdot F $$\n",
    "\n",
    "where $q$ is charge (units of Coulombs, $C$), $\\eta$ is moles of electrons, and $F$ is Faraday's constant ($9.649 \\cdot 10^4 \\, C \\cdot mol^{-1}$).\n",
    "\n",
    "$$ work = E \\cdot q $$\n",
    "$$ 1 \\, V = 1 \\, J \\cdot C^{-1} $$\n",
    "\n",
    "where $work$ has units of Joules and $E$ has units of volts."
   ]
  },
  {
   "cell_type": "markdown",
   "metadata": {},
   "source": [
    "## An Operational Amplifier is a *Differential Amplifier* with Very High *Gain*\n",
    "\n",
    "![Schematic of an operational amplifier](./op-amp-images/01_ch03_Fig01.jpg)\n",
    "\n",
    "**Figure 1.** Schematic drawing of an operational amplifier. Figure from Skoog.\n",
    "\n",
    "A **differential amplifier** produces an output voltage that is proportional to the difference between two input voltages. \n",
    "$$ v_{s} = v_+ - v_- $$\n",
    "where $v_s$ in the input voltage difference, $v_+$ is the inverting input, and $v_-$ is the noninverting input to the operational amplifier.\n",
    "$$ v_{out} = A \\cdot v_s $$\n",
    "where $A$ is the **gain** of the amplifier, which is typically $10^5 - 10^6$. This is maintained while $-PS < v_o < +PS$.\n",
    "\n",
    "![Comparator](./op-amp-images/04_ch03_Fig04.jpg)\n",
    "\n",
    "**Figure 2.** An operational amplifier as a comparator. Output voltage $v_o$ as a function of $v_s$. Because of the high gain of operational amplifiers, a very small voltage difference between the two inputs causes the amplifier output to go to one limit or the other.\n"
   ]
  },
  {
   "cell_type": "markdown",
   "metadata": {},
   "source": [
    "## An Operational Amplifier has *High Input Impedance* and *Low Output Impedance*\n",
    "\n",
    "The input impedance of an ideal operational amplifier is infinite, meaning it draws essentially no current from the signal source. In real operational amplifiers, the input impedance is typically very high, on the order of $10^6$ to $10^{12}$ ohms, which enables the operational amplifier to measure signals from high-impedance sources without distorting the measurement.\n",
    "\n",
    "The output impedance of an ideal operational amplifier is zero, enabling it to drive loads without voltage drop or signal distortion. In real operational amplifiers, the output impedance is very low, typically less than 100 ohms, which allows them to effectively drive a wide range of load impedances while maintaining accurate voltage output."
   ]
  },
  {
   "cell_type": "markdown",
   "metadata": {},
   "source": [
    "## An Operational Amplifier as a Voltage Follower\n",
    "\n",
    "In voltage follower mode, the output is connected directly to the inverting input.\n",
    "\n",
    "![Voltage follower](./op-amp-images/05_ch03_Fig05.jpg)\n",
    "\n",
    "**Figure.** Voltage follower. The amplifier output is connected directly to the inverting input. The input voltage, $v_i$, is connected to the noninverting input.\n",
    "\n",
    "## Voltage Gain and Power Gain\n",
    "\n",
    "$$ v_o = v_i + v_s $$\n",
    "\n",
    "When the amplifier is not voltage limited:\n",
    "\n",
    "$$ v_s = \\frac{v_o}{A} $$\n",
    "\n",
    "therefore combining these equations:\n",
    "\n",
    "$$ v_o = v_i - \\frac{v_o}{A} = v_i \\cdot \\frac{A}{1+A} $$\n",
    "\n",
    "This circuit has negligible voltage gain, $\\frac{v_o}{v_i} \\approx 1$, but can have a very high power gain:\n",
    "\n",
    "$$ power \\, gain = \\frac{P_o}{P_i} = \\frac{i_0 \\cdot v_o}{i_i \\cdot v_i} = \\frac{Z_i}{Z_o} $$\n",
    "\n",
    "Operational amplifiers have high input impedance ($Z_i$, typically $10^6$ to $10^{12}$ ohms) and low output impedance ($Z_o$, typically $10^2$ ohms)."
   ]
  },
  {
   "cell_type": "markdown",
   "metadata": {},
   "source": [
    "## An Operational Amplifier as a Current Follower\n",
    "\n",
    "In current follower mode, the output is connected to the inverting input through a **feedback resistor**.\n",
    "\n",
    "![current follower](./op-amp-images/06_ch03_Fig06.jpg)\n",
    "\n",
    "**Figure.** Operational amplifier current follower. A current source is connected between the inverting input and the noninverting input. The noninverting input is connected to the common. A feedback resistor, $R_f$ is connected from the output to the inverting input. Figure from Skoog.\n",
    "\n",
    "### Current Balance\n",
    "\n",
    "$$ i_i = i_f + i_b \\approx i_f $$\n",
    "\n",
    "where $i_i$ is the input current, $i_f$ is the feedback current, and $i_b$ is the amplifier input bias current. For modern operational amplifiers, $i_b$ will be $10^{-11}$ to $10^{-15}$ $A$, therefore $i_i \\approx i_f$.\n",
    "\n",
    "### Voltage Out\n",
    "\n",
    "$$ v_0 = -i_f \\cdot R_f = -i_i c\\dot R_f $$\n",
    "\n",
    "### Example: Photocurrents\n",
    "\n",
    "![Photometer](./op-amp-images/10_ch03_Fig10.jpg)\n",
    "\n",
    "**Figure.** Using an operational amplifier current follower to measure a small photocurrent, $I_x$. We will learn about photon detectors later this quarter.\n",
    "\n"
   ]
  }
 ],
 "metadata": {
  "language_info": {
   "name": "python"
  }
 },
 "nbformat": 4,
 "nbformat_minor": 2
}
