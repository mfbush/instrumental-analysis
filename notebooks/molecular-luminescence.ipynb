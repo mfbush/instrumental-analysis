{
 "cells": [
  {
   "cell_type": "markdown",
   "metadata": {},
   "source": [
    "# Molecular Luminescence\n",
    "\n",
    "## Learning Objectives\n",
    "*At the conclusion of in-class and outside learning, participants will be able to:*\n",
    "- Define, compare, and contrast absorption, fluorescence, phosphorescence, and chemiluminescence.\n",
    "- Sketch a Jablonski diagram for those processes.\n",
    "- Based on results from luminescence experiments, determine the concentration of an analyte.\n",
    "- Sketch block diagrams for typical instruments for luminescence measurements.\n",
    "- Describe molecular probes and luminescence systems.\n",
    "\n",
    "## Suggested Problems\n",
    "- 15-1, 15-3, 15-5, 15-7, 15-9, 15-10"
   ]
  },
  {
   "cell_type": "markdown",
   "metadata": {},
   "source": [
    "## Molecular Luminescence\n",
    "\n",
    "**Molecular luminescence** encompasses three related methods (*from Skoog*):\n",
    "> **fluorescence**, **phosphorescence**, and **chemiluminescence**. In each of these methods, molecules of the analyte are excited to produce a species whose emission spectrum provides information for qualitative or quantitative analysis.  \n",
    "\n",
    "## Luminescence Assays Can Offer Higher Performance than Absorbance Assays  \n",
    "\n",
    "Luminescence measurements offer two key advantages relative to absorbance-based measurements:\n",
    "\n",
    "- *Sensitivity*: Luminescence causes an increase in signal relative to a dark background, rather than a decrease in signal relative to bright background. Luminesce-based assays are often up to 1000 fold more sensitive than absorbance-based assays.\n",
    "- *Dynamic range*: Luminescence intensity is directly proportional to concentration, without the logarithmic relationship of absorbance. Luminesce-based assays often exhibit 4-6 orders of magnitude of linear dynamic range, whereas absorbance-based assays often exhibit only 2-3 orders of magnitude of linear dynamic range.\n",
    "    - *Linear dynamic range* is the concentration range over which instrument response is directly proportional to analyte concentration, typically expressed as orders of magnitude between the limit of quantitation and where the response deviates from linearity.\n",
    "  \n",
    "Luminescence measurements also benefit from greater *selectivity*, which we'll discus later."
   ]
  },
  {
   "cell_type": "markdown",
   "metadata": {},
   "source": [
    "### Theory of Photoluminescence\n",
    "\n",
    "**Fluorescence** and **phosphorescence** are **photoluminescence processes** where molecules absorb light energy and re-emit it at longer wavelengths.\n",
    "- There are processes in which molecules absorb and re-emit photons at the same wavelength (e.g., *resonance fluorescence*), but those processes are not common in analytical spectroscopy.\n",
    "\n",
    "#### Key differences\n",
    "- *Electronic transitions*: Fluorescence involves singlet-to-singlet transitions. Phosphorescence involves intersystem crossing to a triplet state followed by triplet-to-singlet transitions.\n",
    "\n",
    "![Spin states in photoluminescent systems.](./images-luminescence/01_ch15_Fig01.jpg)\n",
    "\n",
    "**Figure 1.** Electronic spin states of molecules. In (a) the ground electronic state is shown. In the lowest-energy, or ground state, the spins are paired and that state is referred to as a *singlet state*. In (b) and (c), excited electronic states are shown. If the spins remain paired in the excited state, the molecule is in an *excited singlet state* (b). If the spins become unpaired, the molecule is in an *excited triplet state*. \n",
    "\n",
    "- *Quantum yield* is the ratio of photons emitted to photons absorbed by a luminescent system: Fluorescence typically has higher quantum yields since triplet state transitions are formally forbidden, making phosphorescence less efficient.\n",
    "\n",
    "- *Timing*: Fluorescence occurs rapidly (nanoseconds) and stops immediately when excitation ends. Phosphorescence continues for longer periods (milliseconds to seconds or even hours) after excitation stops.\n",
    "    - *Absorption* (femptoseconds) and *vibrational relaxation* (picoseconds) occur on much faster time scales. In chemical physics, a wide range of time scales are used to study different aspects of energy transfer in molecules. \n",
    "\n",
    "![Jablonski diagram for photoluminescence.](./images-luminescence/02_ch15_Fig02.jpg)\n",
    "\n",
    "**Figure 2.** Partial energy-level diagram for a photoluminescent system, usually called a Jablonski diagram. From Skoog Figure 15-2.\n",
    "\n",
    "![Tryptophan spectra.](./images-luminescence/11_ch15_Fig05.jpg)\n",
    "\n",
    "**Figure 3.** Spectra for tryptophan: *E*, excitation, *F*, fluorescence, *P*, phosphorescence. From Skoog Figure 15-5."
   ]
  },
  {
   "cell_type": "markdown",
   "metadata": {},
   "source": [
    "### Theory of Chemiluminescence\n",
    "\n",
    "Chemiluminescence is light emission from a chemical reaction, where the product forms in an excited state and releases energy as photons upon relaxation.\n",
    "\n",
    "$$ A + B \\rightarrow C^* + D $$\n",
    "$$ C^* \\rightarrow C + photon $$\n",
    "\n",
    "In the context of a chemical measurement, $A$ is the analyte, $B$ is a reagent, and $C^*$ is the product formed in an excited state, and $C$ is the ground state of that product that is formed through the emission of a photon.\n",
    "\n",
    "#### Comparison with photoluminescence:\n",
    "\n",
    "- *Energy source*: Chemiluminescence uses chemical reaction energy; photoluminescence requires light absorption\n",
    "- *Duration*: Chemiluminescence continues as long as reactants remain; photoluminescence depends on continued light excitation (fluorescence) or triplet state lifetime (phosphorescence)\n",
    "- *Wavelength control*: The emission wavelength in chemiluminescence is fixed by the reaction energetics. The emission wavelength in photoluminescence depends on the electronic properties of the analyte and the excitation wavelength."
   ]
  },
  {
   "cell_type": "markdown",
   "metadata": {},
   "source": [
    "## Selectivity in Luminescence\n",
    "\n",
    "### Selectivity as a Figure of Merit\n",
    "\n",
    "- In qualitative analysis, selectivity is the extent to which an assay reports the presence of an analyte for samples that do not contain the analyte (the false-positive rate). This is typical due the analytical method yielding signal for molecules in the sample that are not the analyte (an interferent).\n",
    "- In quantitative analysis, selectivity is the extent to which an assay reports signal for molecules in the sample that are not the analyte. The causes a positive error; the assay yields a higher apparent amount of the analyte than the true amount.\n",
    "\n",
    "### Selectivity in Photoluminecence\n",
    "\n",
    "Recall that emission spectra in photoluminescence depends on the electronic properties of the analyte and the excitation wavelength. Monitoring photons at a specific emission wavelength from samples that were excited at a specific wavelength can increase selectivity because only interferents that absorb and emit at those wavelengths will contribute signal.\n",
    "\n",
    "![PAH spectra](./images-luminescence/12_ch15_Fig06a.jpg)\n",
    "\n",
    "**Figure 4.** Total fluorescence spectra of a mixture of anthracene and ovalene. From Skoog Figure 15-6.\n",
    "\n",
    "### Luminescence Probes\n",
    "High quantum yields for photoluminescence is relatively rare. Based on our fundamental understanding of physics, chemists have identified and/or developed many specific molecules that have exceptional luminescence properties. These molecules are often used as:\n",
    "- **probes**, e.g., integrated into larger molecules with functional groups that have a higher high chemical specificity for the analyte, which further increases the specificity for the target\n",
    "- **luminescence systems**, that combine the luminescence group with standardized reagents and detection schemes\n"
   ]
  },
  {
   "cell_type": "markdown",
   "metadata": {},
   "source": [
    "## Instruments for Spectroluminescence\n",
    "\n",
    "![spectrofluorometer](./images-luminescence/17_ch15_Fig11.jpg)\n",
    "\n",
    "**Figure 5.** A typical spectrofluorometer. From Skoog Figure 15-11.\n",
    "\n",
    "![fluorometer](./images-luminescence/16_ch15_Fig10.jpg)\n",
    "\n",
    "**Figure 6.** A typical fluorometer. From Skoog Figure 15-10.\n",
    "\n",
    "![bandpass filter](./images-luminescence/bandpass-filter.png)\n",
    "\n",
    "**Figure 7.** An example of a bandpass filter used for fluorescence measurements. From Edmund Optics.\n",
    "\n",
    "![led emission wavelength](./images-luminescence/luxeon-led.png)\n",
    "\n",
    "**Figure 8.** Single-color light-emitted diodes are an emerging light source for photoluminescence measurements. From LUMILEDS.\n"
   ]
  }
 ],
 "metadata": {
  "language_info": {
   "name": "python"
  }
 },
 "nbformat": 4,
 "nbformat_minor": 2
}
