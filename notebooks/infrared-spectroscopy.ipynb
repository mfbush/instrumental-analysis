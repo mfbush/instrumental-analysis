{
 "cells": [
  {
   "cell_type": "markdown",
   "metadata": {},
   "source": [
    "# FT-IR Spectroscopy\n",
    "\n",
    "## Learning Objectives\n",
    "*At the conclusion of in-class and outside learning, participants will be able to:*\n",
    "- Relate wavelength, wavenumber, and frequency in the infrared region of the spectrum.\n",
    "- Describe the principle of optical interference.\n",
    "- Describe the operation of a Michelson interferometer.\n",
    "- Based on the frequency of light and the mirror velocity, calculate the modulated frequency in the resulting interferogram.\n",
    "- List the advantages of FT-IR relative to IR using dispersive instruments.\n",
    "\n",
    "## Suggested Problems\n",
    "- 7-22, 7-23, 16-5, 16-9, 16-14, 17-6, 17-9, 17-10"
   ]
  },
  {
   "cell_type": "markdown",
   "metadata": {},
   "source": [
    "## Fundamentals of Infrared Spectroscopy\n",
    "\n",
    "From *Skoog*:\n",
    "> The infrared (IR) regions of the spectrum encompasses radiation with wavenumbers ranging from about 12,800 to 10 $cm^{-1}$ or wavelengths ranging from 0.8 to 1000 $\\mu m$. Because of similar applications and instrumentation, the IR spectrum is usually subdivided into three regions, the **near-IR**, **mid-IR**, and **far-IR**.\n",
    "\n",
    "| Regions | Wavelength, $\\lambda$, $\\mu m$ | Wavenumbers, $\\overline{\\nu}, $ $cm^{-1}$ | Frequencies, $\\nu$, Hz |\n",
    "| :--- | --- | --- | --- |\n",
    "| Near | 0.8 - 2.5 | 12800 - 4000 | $3.8 \\cdot 10^{14} - 1.2 \\cdot 10^{14} $|\n",
    "| Middle | 2.5 - 50 | 4000 - 200 | $1.2 \\cdot 10^{14} - 6.0 \\cdot 10^{12} $|\n",
    "| Far | 50 - 1000 | 200 - 10 | $6.0 \\cdot 10^{12} - 3.0 \\cdot 10^{11}$ |\n",
    "| Most used | 2.5 - 15 | 4000 - 670 | $1.2 \\cdot 10^{14} - 2.0 \\cdot 10^{13}$ |\n",
    "\n",
    "\n",
    "### Representative Spectrum\n",
    "\n",
    "To absorb IR radiation, the absorption must excite excite a vibrational transition that causes a change in dipole. This requirement adds selectivity to analysis.\n",
    "- The near-IR excites overtones or harmonics of fundamental vibrations.\n",
    "- The mid-IR excites the fundamental vibrations.\n",
    "- The far-IR excites low-energy vibrations and higher energy rotations.\n",
    "- Assigning IR spectra, especially with regards to functional groups in organic molecules, is a learning objective for organic chemistry and CHEM 460/463.\n",
    "\n",
    "![FTIR of polystyrene](./images-ftir/02_ch16_Fig01.jpg)\n",
    "\n",
    "**Figure 1.** IR absorption spectrum of a thin polystyrene film. Note the scale changes on the x-axis at 2000 $cm^{-1}$."
   ]
  },
  {
   "cell_type": "markdown",
   "metadata": {},
   "source": [
    "## Vibrations as Oscillators\n",
    "\n",
    "Fundaments of molecular vibrations/vibrational spectroscopy, including selection rules and the harmonic/anharmonic oscillator are learning objectives of CHEM 455.\n",
    "\n",
    "![Potential-energy diagrams](./images-ftir/04_ch16_Fig03.jpg)\n",
    "\n",
    "**Figure**. Potential-energy diagrams. (a) Harmonic oscillator. (b) Curve 1: harmonic oscillator. Curve 2: anharmonic motion."
   ]
  },
  {
   "cell_type": "markdown",
   "metadata": {},
   "source": [
    "## Principles of Fourier Transform Optical Measurements\n",
    "\n",
    "So far, all of the instruments for analytical spectroscopy that we have discussed are operated in the *frequency domain*. Data is acquired as a function of frequency using filters or monochromators (single-channel measurements) or dispersion light in space and multiple detectors (multichannel measurements using diode-array detectors).\n",
    "\n",
    "### Challenges for Measuring IR Spectra Using these Approaches\n",
    "- Large noise due to the low intensity of infrared light source.\n",
    "- Poor sensitivity and slow response time of IR light detectors. \n",
    "\n",
    "### Solution: Perform Measurements in the Time Domain\n",
    "An alternative approach is to acquire data in the *time domain*. FT-IR allows simultaneous measurement of all wavelengths through the use of an interferometer, typically a Michelson interferometer, rather than measuring each wavelength sequentially. \n",
    "- The interferometer produces an interferogram containing information about all frequencies\n",
    "- The interferogram is then mathematically converted to a spectrum using a Fourier transform\n",
    "- Relative to dispersive techniques, this process results in:\n",
    "    -  significantly faster data collection, because all frequencies are analyzed simultaneously\n",
    "    -  significantly more light is transmitted to the detector, because less light is filtered away\n",
    "    -  improved signal-to-noise ratio, because it is easier to average many replicate measurements and $(\\frac{S}{N})_n \\approx \\sqrt{n}\\cdot   (\\frac{S}{N})_i$ for $n$ independent measurements.\n",
    "\n",
    "### Time Domain Signals\n",
    "\n",
    "![Time domain signals from two components](./images-ftir/44_ch07_Fig41.jpg)\n",
    "\n",
    "**Figure 2.** (a) Time-domain plot of two slightly different frequencies, $\\nu_1$ and $\\nu_2$, of the same amplitude. (b) Time-domain plot of the sum of the two waveforms in (a). (c) Frequency-domain plot of $\\nu_1$. (d) Frequency domain plot of $\\nu_2$. (e) Frequency domain plot of the waveform in (b). From Skoog 7-41.\n",
    "\n",
    "### Michelson interferometer\n",
    "Signals like that in Figure 2 are not directly measurable because the frequencies of IR spectroscopy ($10^{12}-10^{15} Hz$) are too high for existing transducers. To obtain those time-domain signals, the high-frequency signal is converted (i.e., modulated) to a measurable frequency, without distorting the information carried in the original signal.\n",
    "\n",
    "A Michelson interferometer splits a beam of light into two paths using a beamsplitter: one beam reflects off a fixed mirror while the other reflects off a moving mirror. When the beams recombine, their phase difference creates an interference pattern that varies with the moving mirror's position. In FT-IR, this interference pattern produces the interferogram that is later Fourier transformed into a spectrum.\n",
    "\n",
    "![Michelson interferometer](./images-ftir/46_ch07_Fig43.jpg)\n",
    "\n",
    "**Figure 3.** Schematic of a Michelson interferometer illuminated by a monochromatic light source. From Skoog 7-43.\n",
    "\n",
    "The plot of the data from the detector in the interferometer is called an *interferogram*.If the mirror is moving at a constant velocity of $v_m$, the frequency of the signal at the detector ($f$) is:\n",
    "$$ f = \\frac{2 \\cdot v_m}{\\lambda}$$"
   ]
  },
  {
   "cell_type": "markdown",
   "metadata": {},
   "source": [
    "### Fourier Transforms\n",
    "\n",
    "A Fourier transform converts the interferogram (a plot of light intensity versus mirror position) into a spectrum (intensity versus frequency) by decomposing the time-domain signal into its constituent frequency components. This mathematical operation essentially decodes how much each frequency contributes to the original interferogram pattern.\n",
    "\n",
    "![Interferrograms and analysis](./images-ftir/47_ch07_Fig44.jpg)\n",
    "\n",
    "**Figure 4.** Formations of interferograms at the output of the Michelson interferometer. (a) Interference pattern at the output of the interferometer resulting from a monochromatic light source. (b) Sinusoidally varying the signal (interferogram) produced at the detector in (a) sweeps across the detector. (c) Frequency spectrum of (b). (d) Two frequency source. (g) Broad emission band. From Skoog Figure 7-44.\n",
    "\n",
    "The resolution of a Fourier transform spectrometer can be described in terms of the difference in wavenumber between two lines that are just separated by the instrument ($\\Delta \\overline \\nu$). The resolution will improve in proportion to the reciprocal of the distance that the mirror travels."
   ]
  },
  {
   "cell_type": "markdown",
   "metadata": {},
   "source": [
    "## FT-IR Instruments\n",
    "\n",
    "![Single-beam FT-IR](./images-ftir/12_ch16_Fig08.jpg)\n",
    "\n",
    "**Figure 5.** Single-beam FT-IR spectrometer. In one arm of the interferometer, the IR source radiation travels through the beam splitter to the fixed mirror, back to the beamsplitter, and through the sample to the IR transducer. In the other arm, the IR source radiation travels to the beamsplitter, is reflected to the movable mirror, and travels back through the beamsplitter to the sample and to the transducer. When the beams mean again at the beamsplitter, they can interfere with each other. A plot of the signal versus mirror displacement is the interferogram, which contains information about all of the frequences present. The spectrum, intensity versus frequency, is the Fourier transform of the interferrogram.  \n",
    "From Skoog Figure 16-8."
   ]
  },
  {
   "cell_type": "markdown",
   "metadata": {},
   "source": []
  }
 ],
 "metadata": {
  "language_info": {
   "name": "python"
  }
 },
 "nbformat": 4,
 "nbformat_minor": 2
}
