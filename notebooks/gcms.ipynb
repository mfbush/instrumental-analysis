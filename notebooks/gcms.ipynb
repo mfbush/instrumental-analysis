{
 "cells": [
  {
   "cell_type": "markdown",
   "metadata": {},
   "source": [
    "# Gas Chromatography\n",
    "## Learning Objectives\n",
    "- Explain the fundamental principles of gas chromatography and mass spectrometry as individual techniques and how they complement each other when combined.\n",
    "- Describe the key components of a GC-MS instrument, including injection systems, columns, interfaces, ionization sources, mass analyzers, and detectors.\n",
    "- Evaluate the advantages, limitations, and appropriate applications of GC-MS compared to other analytical techniques."
   ]
  },
  {
   "cell_type": "markdown",
   "metadata": {},
   "source": [
    "## Why Combine Gas Chromatography and Mass Spectrometry?\n",
    "\n",
    "Although some analyses yield simple gas chromatograms (consider the analysis of benzene and toluene from petroleum, which was performed under conditions where most simple hydrocarbons were not retained), others yield complex chromatograms.\n",
    "\n",
    "![complex-chromatograms](./images-chromatography/NonBiodegradedAndBiodegraded.png)\n",
    "\n",
    "**Figure 1.** Examples of non-biodegraded crude oil (top) and a heavily biodegraded one (bottom) with the UCM area indicated. Both chromatograms have been normalized so that their integrals are equal to unity. Reproduced from [Wikipedia](https://en.wikipedia.org/wiki/Unresolved_complex_mixture).\n",
    "\n",
    "In congested chromatograms:\n",
    "- Using a single channel detector, not all chromatographic features are adequately resolved.\n",
    "- Using only retention time, it is often not possible to unambiguously identify the molecule associated with each feature. \n",
    "\n",
    "Mass Spectrometrs Offers:\n",
    "- Fast detection\n",
    "    - In conventional GC, peaks have widths around 2 to 10 seconds.\n",
    "    - Low-cost quadrupole mass filters typically support the acquisition of 2-20 of masss spectra per seconds.\n",
    "    - Time-of-flight mass analyzers typically support the acquition of tens to hundreds of  mass spectra per second.\n",
    "    - Even for fast GC with sub-second peaks, it is possible to sample individual chromatographic peaks many times.\n",
    "- Multichannel, analyte-specific detection\n",
    "    - Even mass-unit resolution analyzers offer hundreds of channels per mass spectrum.\n",
    "    - Mass spectra depend on the identity of the analyte.\n",
    "- Great sensitivity\n",
    "    - As discussed in the mass spectrometry module, detectors for mass spectrometry can be very sensitive. This is particularly advantageous for GC, since very little material can be loaded onto capillary columns."
   ]
  },
  {
   "cell_type": "markdown",
   "metadata": {},
   "source": [
    "## Recall\n",
    "\n",
    "### Gas Chromatography\n",
    "\n",
    "The *retention factor* in gas chromatography is the ratio between the time that an analyte spends partitioned in the stationary phase to time that analyte spends in the carrier gas. Therefore, the analyte must for stable, gaseous vapors during experiments.\n",
    "- **Volatility**: Analytes must have sufficient vapor pressure at GC operating temperatures. Generally, analytes should have boiling points below approximately 400-450 °C to be analyzed by conventional GC.\n",
    "- **Thermal Stability**: Analytes must remain chemically stable at the temperatures required for vaporization and separation. Compounds that decompose or rearrange under heat are poor candidates.\n",
    "- **Molecular Weight**: Typically, GC works best for compounds with molecular weights below 500-600 Da. Larger molecules often have insufficient volatility.\n",
    "- **Functional Groups**: The presence of certain functional groups (like -OH, -COOH, -NH2) can decrease volatility and create unwanted column interactions through hydrogen bonding.\n",
    "- **Derivatization Potential** Some non-volatile compounds can be chemically modified (derivatized) to increase volatility and improve GC performance.\n",
    "\n",
    "### Electron Impact (EI) Ionization\n",
    "In electronic impact (EI) ionization, the analyte $M$ (specifically, the vapor of the analyte) is reacted with a high-energy electron (the primary electron, $e_{1}^{-}$). This yields the radical cation of the molecule and a secondary electron ($e_{2}^{-}$):  \n",
    "\n",
    "$M + e_{1}^{-}(70 eV) \\rightarrow M^{+\\cdot} +e_{2}^{-} + e_{1}^{-}(\\ll70 eV)$  \n",
    "\n",
    "Some notes:\n",
    "- This technique also analyzes gaseous vapors.\n",
    "- EI is a **hard ionization** technique. That is, it yields the molecular ions as well as fragment ions. In contrast, MALDI and ESI are soft ionization techniques that yield the molecular ion.\n",
    "- EI is very common in the analysis of pure, volatile samples. Therefore, it is a great match for analyzing the eluent of gas chromatography (GC)."
   ]
  },
  {
   "cell_type": "markdown",
   "metadata": {
    "vscode": {
     "languageId": "plaintext"
    }
   },
   "source": [
    "## Electron Impact Spectra\n",
    "\n",
    "### Examples\n",
    "- [Benzene](https://webbook.nist.gov/cgi/cbook.cgi?Name=benzene&Units=SI&cMS=on)\n",
    "- [Toluene](https://webbook.nist.gov/cgi/cbook.cgi?Name=toluene&Units=SI&cMS=on)\n",
    "- [Cholesterol](https://webbook.nist.gov/cgi/cbook.cgi?Name=cholesterol&Units=SI&cMS=on)\n",
    "\n",
    "### Spectral Libraries\n",
    "\n",
    "Although many electron impact spectra can be assigned based features and patterns in the features, most spectra are assigned through comparisons with spectral libraries, which contain spectra obtained for pure standards.\n",
    "- **NIST/EPA/NIH Mass Spectral Library (NIST).** Created by the National Institutes of Standards and Technology, which is an agency of the United States Department of Commerce whose mission is to promote American innovation and industrial competitiveness.\n",
    "    - Contains over 300,000 EI mass spectra\n",
    "    - Most widely used in commercial and research settings\n",
    "    - Regular updates with extensive quality control\n",
    "    - Includes retention indices for many compounds\n",
    "- **Wiley Registry of Mass Spectral Data**\n",
    "    - Contains approximately 775,000 spectra\n",
    "    - Often combined with NIST as the \"Wiley-NIST\" combined library\n",
    "    - Particularly strong in specialized organic compounds\n",
    "\n",
    "### Scoring Against Libraries \n",
    "\n"
   ]
  }
 ],
 "metadata": {
  "language_info": {
   "name": "python"
  }
 },
 "nbformat": 4,
 "nbformat_minor": 2
}
