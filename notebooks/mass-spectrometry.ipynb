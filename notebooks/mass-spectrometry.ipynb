{
 "cells": [
  {
   "cell_type": "markdown",
   "metadata": {},
   "source": [
    "# Mass Spectrometry\n",
    "## Learning Objectives\n",
    "- Draw a block diagram of a mass spectrometer.\n",
    "- Calculate the nominal, monoisotopic, and average masses of an ion based on its elemental composition.\n",
    "- Describe the mechanism of ion formation in matrix-assisted laser desorption ionization, electrospray ionization, and electron impact ionization.\n",
    "\n"
   ]
  },
  {
   "cell_type": "markdown",
   "metadata": {},
   "source": [
    "## What Is Mass Spectrometry?\n",
    "Mass spectrometry (MS) is a technique in which analytes in a sample are analyzed as gas-phase ions. \n",
    " \n",
    "![Features of a mass spectrum](images/generic-mass-spectrum.png)\n",
    "\n",
    "**Figure 1.** The axes of a mass spectrum, explained.\n",
    "\n"
   ]
  },
  {
   "cell_type": "markdown",
   "metadata": {},
   "source": [
    "## What is Mass\n",
    "### Nominal Mass\n",
    "An integer based on the sum of the number of protons and neutrons of the lightest stable isotope.  \n",
    "\n",
    "| Element | Mass/Da |\n",
    "| :--- | ---: |\n",
    "| H | 1 |\n",
    "| C | 12 |\n",
    "| N | 14 |\n",
    "| O | 16 |\n",
    "| S | 32 |\n",
    "\n",
    "### Monoisotopic Mass\n",
    "The exact mass of the lightest stable isotope of each element. Note that by definition the monoisotopic mass of carbon is exactly 12 Da.\n",
    "\n",
    "| Element | Mass/Da |\n",
    "| :--- | ---: |\n",
    "| H | 1.00783 |\n",
    "| C | 12 |\n",
    "| N | 14.0031 |\n",
    "| O | 15.9949 |\n",
    "| S | 31.9721 |\n",
    "\n",
    "### Relative Abundances\n",
    "The abundance of each isotope, relative to the lightest stable isotope.\n",
    "\n",
    "| Element | A | A+1 | A+2 |\n",
    "| :--- | ---: | ---: | ---: |\n",
    "| H | 100% | 0.015% | n/a |\n",
    "| C | 100% | 1.1% | n/a |\n",
    "| N | 100% | 0.34% | n/a |\n",
    "| O | 100% | 0.04% | 0.20% |\n",
    "| S | 100% | 0.79% | 4.47% |\n",
    "\n",
    "### Average Mass\n",
    "The average of the masses of all isotopes, weighted by their relative abundance.\n",
    "\n",
    "| Element | Mass/Da |\n",
    "| :--- | ---: |\n",
    "| H | 1.00784 |\n",
    "| C | 12.0107 |\n",
    "| N | 14.0064 |\n",
    "| O | 15.9994 |\n"
   ]
  },
  {
   "cell_type": "markdown",
   "metadata": {},
   "source": [
    "### Examples\n",
    "Calculate the monoisotopic mass of the $[M+H]^{+}$ ion of [sinapinic acid](https://en.wikipedia.org/wiki/Sinapinic_acid). The elemental composition of neutral sinapinic acid is $C_{11}H_{12}O_{5}$, therefore the elemental composition of the $[M+H]^{+}$ ion is $C_{11}H_{13}O_{5}$."
   ]
  },
  {
   "cell_type": "code",
   "execution_count": 1,
   "metadata": {},
   "outputs": [
    {
     "name": "stdout",
     "output_type": "stream",
     "text": [
      "225.07628999999997\n"
     ]
    }
   ],
   "source": [
    "# Monoisotopic masses of H, C, and O.\n",
    "m_H = 1.00783\n",
    "m_C = 12.\n",
    "m_O = 15.9949\n",
    "\n",
    "m = m_C*11 + m_H*13 + m_O*5\n",
    "print(m)"
   ]
  },
  {
   "cell_type": "markdown",
   "metadata": {},
   "source": [
    "### Reflection Questions\n",
    "1. How does this monoisotopic mass compare with the [molar mass of sinapic acid](https://en.wikipedia.org/wiki/Sinapinic_acid). Consider:  \n",
    "    - The units\n",
    "    - The whole number part of the monoisotopic mass\n",
    "    - The fractional part of the monoisotopic mass\n",
    "\n",
    "2. Calculate the monoisotopic mass of the $[M+H]^{+}$ ion of [α-cyano-4-hydroxycinnamic acid](https://en.wikipedia.org/wiki/%CE%91-Cyano-4-hydroxycinnamic_acid).\n"
   ]
  },
  {
   "cell_type": "markdown",
   "metadata": {},
   "source": [
    "### The Mass of Caffeine\n",
    "Below is a simulated mass spectrum of caffeine, which has the elemental composition $C_{8}H_{10}N_{4}O_{2}$.The most intense peak in the spectrum corresponds to the monoisotopic peak, i.e., the lightest stable isotope of each element. On the scale of this plot, the nominal, monoisotopic, and average masses are similar in overall magnitude, but note the direction of the bias between nominal and average masses relative to that of the peak in the spectrum (the monoisotopic mass).\n",
    "\n",
    "![A simulated mass spectrum of caffeine.](https://upload.wikimedia.org/wikipedia/commons/d/d7/Caffeine_mass.gif)  \n",
    "**Figure tk.** A simulated mass spectrum of caffeine. The most intense peak in the spectrum corresponds to the monoisotopic peak, i.e., the lightest stable isotope of each element. Note the differences between the nominal, monoisotopic, and average masses of this ion. Image reproduced from Kermit Murray."
   ]
  },
  {
   "cell_type": "markdown",
   "metadata": {},
   "source": [
    "### The Mass of Glucagon\n",
    "Below is a simulated mass spectrum of glucagon, which has the elemental composition $C_{153}H_{224}N_{42}O_{50}$. First, compare this spectrum with that of caffeine. Note:\n",
    "- The monoisotopic peak is not the most intense. Hypothesize the cause of this phenomenon based on the elemental composition and the relative abundances of the isotopes of these elements.\n",
    "\n",
    "![Simulated mass spectrum of glucagon.](https://upload.wikimedia.org/wikipedia/commons/6/6f/Glucagon_mass.gif)\n",
    "**Figure tk.** A simulated mass spectrum of glucagon, which is a hormone that helps regulate blood sugar levels. Note the differences betweeen the nominal, monoisotopic, and average masses of this ion. Image reproduced from Kermit Murray."
   ]
  },
  {
   "cell_type": "markdown",
   "metadata": {},
   "source": [
    "## Three Common Examples of Mass Spectrometers\n",
    "A **block diagram** represents the principal parts or functions of an instrument using blocks and represents the relationship between the blocks using arrows.\n",
    "\n",
    "![Diagrams showing the relations between the ionization source, mass analyzer, and detector in common mass spectrometers.](images/block-diagrams.png)\n",
    "\n",
    "**Figure 2.** Block diagrams for three common examples of mass spectrometers. MALDI stands for “matrix-assisted laser-desorption ionization,” which will be described below. "
   ]
  },
  {
   "cell_type": "markdown",
   "metadata": {},
   "source": [
    "## Matrix-Assisted Laser Desorption Ionization\n",
    "Samples for MALDI are prepared by creating a slurry of the matrix, the analyte, and a volatile solvent; this slurry is spotted onto a target (typically a stainless steel plate) and the solvent evaporates prior to analysis. The specific matrix molecule is selected for a specific application. For example, α-cyano-4-hydroxycinnamic acid is commonly used for the analysis of peptides, lipids, and nucleic acids, whereas sinapinic acid (3,5-dimethoxy-4-hydroxycinnamic acid) is commonly used for the analysis of large peptides, whole proteins, and lipids.  \n",
    "\n",
    "![structure of α-cyano-4-hydroxycinnamic acid](https://upload.wikimedia.org/wikipedia/commons/7/7c/Alpha-cyano-4-hydroxycinnamic_acid.svg)\n",
    "\n",
    "![structure of sinapinic acid](https://upload.wikimedia.org/wikipedia/commons/4/47/Sinapic_acid.png)\n",
    "**Figure 4.** (*top*) α-cyano-4-hydroxycinnamic acid and (*bottom*) sinapinic acid are each commonly used as MALDI matrix molecules. Each of these molecules contains significant conjugation, which readily absorbs UV light, and a carboxylic acid, which makes it a good proton donor in the gas phase. Images from Wikimedia Commons."
   ]
  },
  {
   "cell_type": "markdown",
   "metadata": {},
   "source": [
    "### Spotting a Sample and Ionization\n",
    "During analysis, this “spotted sample” is transferred into the vacuum system of the instrument and irradiated with UV light, which induces the transfer and ionization of analytes in the resulting plume. Depending on whether experiments are performed in positive or negative ionization modes, MALDI yields almost exclusively $[M+H]^{+}$ cations or $[M–H]^{–}$ anions, respectively.\n",
    "\n",
    "![Photograph of a MALDI plate with 384 spots.](https://upload.wikimedia.org/wikipedia/commons/5/56/MALDI_384_spot_target.jpg)\n",
    "**Figure 5.** A photograph of a MALDI target. This target has the same dimensions as a 384-well plate, which makes it amenable for workflows with automated sample handling. Image from Kermit Murray / Wikimedia Commons.\n",
    "\n",
    "![Photograph of sample deposition in MALDI.](images/maldi-preparation.jpg)\n",
    "**Figure 6.** Sample preparation for MALDI. (*upper*) Pipetting of 1 μl of sample–matrix solution onto a standard MALDI target. (*lower*) Same spots after DHB has crystallized show large crystals on the rim and evenly distributed small crystals in the center. Figure and caption from [Dr. Jürgen H. Gross](https://ms-textbook.com/for-instructors/)."
   ]
  },
  {
   "cell_type": "markdown",
   "metadata": {},
   "source": [
    "## Electrospray Ionization\n",
    "![Diagram of electrospray ionization](https://upload.wikimedia.org/wikipedia/commons/d/d1/ESI_positive_mode_%2821589986840%29.jpg)  \n",
    "\n",
    "**Figure 7.** Electrospray ionization in “positive ion mode”. The electrospray capillary is held at a high potential (typically 1-5 kV) relative to the atmospheric-pressure inlet of the mass spectrometer. Electrochemistry of the liquid sample results in the formation of excess charges. The coulombic repulsion of those excess charges overcomes the surface tension of the liquid, which results in the formation of a Taylor cone and the expulsion of highly charged droplets. Those droplets undergo desolvation and fission, which eventually results in the formation of gas-phase ions. [Figure Source](https://en.wikipedia.org/wiki/Electrospray_ionization). \n",
    "\n",
    "Electrospray ionization results in even-electron ions that are proton rich, e.g., $[M+H]^{+}$ or $[M+nH]^{+n}$ in positive mode, or proton deficient, e.g., $[M-H]^{-}$ or $[M-nH]^{-n}$ in negative mode. The formation of multiply charged ions is common for analytes with higher masses, e.g., synthetic polymers and proteins, whereas the formation of singly charged ions is common for small mocules."
   ]
  },
  {
   "cell_type": "markdown",
   "metadata": {},
   "source": [
    "## Electron Impact (EI) Ionization\n",
    "In electronic impact (EI) ionization, the analyte $M$ (specifically, the vapor of the analyte) is reacted with a high-energy electron (the primary electron, $e_{1}^{-}$). This yields the radical cation of the molecule and a secondary electron ($e_{2}^{-}$):  \n",
    "\n",
    "$M + e_{1}^{-}(70 eV) \\rightarrow M^{+\\cdot} +e_{2}^{-} + e_{1}^{-}(\\ll70 eV)$  \n",
    "\n",
    "Some notes:\n",
    "- EI is a **hard ionization** technique. That is, it yields the molecular ions as well as fragment ions. In contrast, MALDI and ESI are soft ionization techniques that yield the molecular ion.\n",
    "- EI is very common in the analysis of pure, volatile samples. Therefore, it is a great match for analyzing the eluent of gas chromatography (GC).\n",
    "\n"
   ]
  }
 ],
 "metadata": {
  "kernelspec": {
   "display_name": "base",
   "language": "python",
   "name": "python3"
  },
  "language_info": {
   "codemirror_mode": {
    "name": "ipython",
    "version": 3
   },
   "file_extension": ".py",
   "mimetype": "text/x-python",
   "name": "python",
   "nbconvert_exporter": "python",
   "pygments_lexer": "ipython3",
   "version": "3.10.9"
  }
 },
 "nbformat": 4,
 "nbformat_minor": 2
}
