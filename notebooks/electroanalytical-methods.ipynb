{
 "cells": [
  {
   "cell_type": "markdown",
   "metadata": {},
   "source": [
    "# Electroanalytical Methods\n",
    "\n",
    "## Learning Objectives\n",
    "*At the conclusion of in-class and outside learning, participants will be able to:*\n",
    "\n",
    "## Suggested Problems\n",
    "- 25-4, 25-9, 25-10"
   ]
  },
  {
   "cell_type": "markdown",
   "metadata": {},
   "source": [
    "## Seminar Opportunity\n",
    "\n",
    "Analytical Chemistry Seminar: Prof. Joaquín Rodríguez López\n",
    "Putting a New Spin on the Electrochemistry of Oxygen: Nanoelectrochemistry, Spectroscopy, and Automated Analysis \n",
    "[Calendar Page for Seminar](https://chem.washington.edu/calendar?trumbaEmbed=view%3Devent%26eventid%3D179176598)\n"
   ]
  },
  {
   "cell_type": "markdown",
   "metadata": {},
   "source": [
    "## Electrochemical Cells\n",
    "\n",
    "![Galvanic cells](./images-electroanalytical/01_ch22_Fig01.jpg)\n",
    "\n",
    "**Figure 1.** (a) A galvanic electrochemical cell at open circuit, (b) a galvanic cell doing work, and (c) an electrolytic cell. Skoog Figure 22-1."
   ]
  },
  {
   "cell_type": "markdown",
   "metadata": {},
   "source": [
    "## Potentiometry\n",
    "\n",
    "From Skoog:\n",
    "> Potentiometric methods of analysis are based on measuring the potential of electrochemical cells without drawing appreciable current.\n",
    "\n",
    "![potentiometric cell](./images-electroanalytical/01_ch23_Fig01.jpg)\n",
    "\n",
    "**Figure 2.** A cell for potentiometric measurements. Skoog Figure 23-1.\n",
    "\n",
    "![pH electrode](./images-electroanalytical/05_ch23_Fig03.jpg)\n",
    "\n",
    "**Figure 3.** Typical electrode system for measuring pH. (a) Glass electrode (indicator) and SCE (reference) immersed in a solution of unknown pH. (b) Combination probe consisting of both an indicator glass electrode and a silver-silver chloride reference. Skoog Figure 23-3.\n",
    "\n",
    "Determining the $E_{cell}$ is a learning objective of general chemistry and potentiometry is a learning objective of Quantitative Analysis.\n",
    "\n",
    "### Discussion Question\n",
    "\n",
    "Using potentiometry to measure pH, why must the voltage measuring device have a high impedance? \n",
    "\n",
    "(On your own, see Example 23-1 in the book.)"
   ]
  },
  {
   "cell_type": "markdown",
   "metadata": {
    "vscode": {
     "languageId": "plaintext"
    }
   },
   "source": [
    "## Voltammetry\n",
    "\n",
    "From Skoog:\n",
    "> Voltammetry comprises a group of electroanalytical methods in which information about the analyte is obtained by measuring current as a function of applied potential."
   ]
  },
  {
   "cell_type": "markdown",
   "metadata": {},
   "source": [
    "## Voltammetric Instruments\n",
    "\n",
    "### Electrochemical Reactions\n",
    "\n",
    "- Reactions are on surfaces.\n",
    "- Electrons are special reagents.\n",
    "- Electrostatic potential can be continuously varied.\n",
    "- Reaction kinetics can be easily studied.\n",
    "\n",
    "### The Three-Electrode Cell\n",
    "\n",
    "- The reaction of interest is studied on the **working electrode**.\n",
    "- The **reference electrode** provides a stable reference point for the potential on the WE.\n",
    "- The **counter electrode** provides a path for most of the current to pass through the circuit.\n",
    "\n",
    "![Operational amplifier potentiostat](./images-electroanalytical/02_ch25_Fig02.jpg)\n",
    "\n",
    "**Figure 4.** An operational amplifier potentiostat. The three-electrode cell has a working electrode (WE), a reference electrode (RE), and a counter electrode (CE)."
   ]
  },
  {
   "cell_type": "markdown",
   "metadata": {},
   "source": [
    "## Voltammograms\n",
    "\n",
    "![Voltammogram](./images-electroanalytical/06_ch25_Fig06.jpg)\n",
    "\n",
    "**Figure 5.** Linear-sweep voltammogram for the reduction of a hypothetical species A to give a product P. The limiting current $i_i$ is proportional to the analyte concentration and is used for quantitative anaysis. The half-wave potential for the half-reaction is often used for qualitative identification of the species. The half-wave potential is the applied potential at which the current $i$ is $\\frac{i_1}{2}$.\n",
    "\n",
    "In linear-sweep voltammograms, the constant current beyond the steep rise is called the diffusion-limited current or the limiting current ($i_1$). Limiting current are usually directly proportional ot the reactant concentration:\n",
    "\n",
    "$$i_1 = k \\cdot C_A $$\n"
   ]
  },
  {
   "cell_type": "markdown",
   "metadata": {},
   "source": [
    "## Exam #1\n",
    "### What to Expect\n",
    "- Exams are designed to measure how well each student has mastered the specific learning objectives described above. Questions on the exam will assess one or more of those learning objectives.\n",
    "- Each exam will consist of three or four multipart problems that will require quantitative reasoning and critical thinking. A typical problem consist of a paragraph describing a protocol or scenario, some experimental data (tables, graphs, etc.), and a series of questions. \n",
    "- Each exam will take place during a scheduled class time. Students can bring a note card (described below), but otherwise, the exam will be closed notes / closed book.\n",
    "### What to Bring to the Exam\n",
    "- Calculator. Anything readily recognizable as a scientific or graphing calculator. No QWERTY keyboard. Not able to connect to the internet.\n",
    "- 3\"x5\" note card, with notes on both sides. Must turn in note card with exam."
   ]
  }
 ],
 "metadata": {
  "language_info": {
   "name": "python"
  }
 },
 "nbformat": 4,
 "nbformat_minor": 2
}
