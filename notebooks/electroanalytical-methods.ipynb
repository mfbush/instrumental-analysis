{
 "cells": [
  {
   "cell_type": "markdown",
   "metadata": {},
   "source": [
    "# Electroanalytical Methods\n",
    "\n",
    "## Learning Objectives\n",
    "*At the conclusion of in-class and outside learning, participants will be able to:*\n",
    "- Convert values between between equivalent binary, decimal, and binary-coded decimal representations.\n",
    "- Compare binary, decimal, and binary-coded decimal representations in terms of storage size and ease of math operations.\n",
    "- For an analog-to-digital convertor with a given full-scale value, bit resolution, and analog value, calculate the resulting digital signal.\n",
    "- Based on the least significant bit of an analog-to-digital converter, estimate the relative uncertainty of a digitized value.\n",
    "- Select an appropriate sampling frequency based on the signal to be digitized in a specific measurement. \n",
    "\n",
    "## Suggested Problems\n",
    "- 4-1, 4-2, 4-3, 4-8, 4-9, 4-11, 4-12"
   ]
  }
 ],
 "metadata": {
  "language_info": {
   "name": "python"
  }
 },
 "nbformat": 4,
 "nbformat_minor": 2
}
