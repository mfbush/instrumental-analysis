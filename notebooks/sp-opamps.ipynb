{
 "cells": [
  {
   "cell_type": "markdown",
   "metadata": {},
   "source": [
    "# Operational Amplifiers\n",
    "\n",
    "## Suggested Problems\n",
    "- 3-1, 3-4, Example 3-1"
   ]
  },
  {
   "cell_type": "markdown",
   "metadata": {},
   "source": [
    "## 3-1\n",
    "\n",
    "> An operational amplifier has output voltage limits of +13 V and -14 V when used with a $\\pm 15 V$ power supply. If the amplifier is used as a comparator, but what amount does $v_+$ have to exceed $v_-$ and $v_-$ have to exceed $v_+$, for the amplifier to be at limit if the open-loop gain A is:\n",
    "\n",
    "**(a)** 100,000\n",
    "\n",
    "When $v_+$ exceeds $v_-$, limit reached for:\n",
    "$v_s \\geq \\frac{13 \\, V}{100000}= 0.00013 \\, V$\n",
    "\n",
    "When $v_-$ exceeds $v_+$, limit reached for:\n",
    "$v_s \\geq \\frac{-14 \\, V}{100000}= -0.00014 \\, V$\n",
    "\n",
    "**(b)** 600,000\n",
    "\n",
    "When $v_+$ exceeds $v_-$, limit reached for:\n",
    "$v_s \\geq \\frac{13 \\, V}{600000}= 2.2 \\cdot 10^{-5} \\, V$\n",
    "\n",
    "When $v_-$ exceeds $v_+$, limit reached for:\n",
    "$v_s \\geq \\frac{-14 \\, V}{600000}= -2.3 \\cdot 10^{-5} \\, V$\n",
    "\n",
    "**(c)** $2.6 \\cdot 10^6$\n",
    "\n",
    "When $v_+$ exceeds $v_-$, limit reached for:\n",
    "$v_s \\geq \\frac{13 \\, V}{2.6 \\cdot 10^6}= 5.0 \\cdot 10^{-6} \\, V$\n",
    "\n",
    "When $v_-$ exceeds $v_+$, limit reached for:\n",
    "$v_s \\geq \\frac{-14 \\, V}{2.6 \\cdot 10^6}= -5.6 \\cdot 10^{-6} \\, V$"
   ]
  },
  {
   "cell_type": "markdown",
   "metadata": {},
   "source": [
    "## 3-4\n",
    "\n",
    "> An operational amplifier with an open-loop gain of $1.0 \\cdot 10^5$ and an input resistance of $1.0 \\cdot 10^{12}$ is used in the voltage follower circuit of Figure 3-5. A voltage source is to be measured with a voltage of $2.0 \\, V$ and a source resistant of $10.0 K\\Omega$. Find the percentage relative error in the follower output voltage due to (a) the finite gain of the amplifier and (b) the loading of the voltage source.\n",
    "\n",
    "**(a)** finite gain of the amplifier\n",
    "\n",
    "From Equation 3-2:\n",
    "\n",
    "$$v_o = v_i \\cdot \\frac{A}{1+A} = 2.0 \\cdot \\frac{1.0 \\cdot 10^5}{1 + 1.0 \\cdot 10^5} = 1.99998 \\, V$$\n",
    "\n",
    "$$Error = 2.0 - 1.9998 V = 0.00002 V = 20 \\mu V$$\n",
    "\n",
    "**(b)** loading of the voltage source\n",
    "\n",
    "Current drawn from source:\n",
    "\n",
    "$$ i = \\frac{2.0 \\, V}{10^4 \\, \\Omega + 10^{12} \\, \\Omega} = 1.99999998 \\cdot 10^{-12} A $$\n",
    "\n",
    "The $IR$ drop across the source resistance is:\n",
    "\n",
    "$$ 1.99999998 \\cdot 10^{-12} \\cdot 10^4 \\Omega = 20 \\, nV $$"
   ]
  }
 ],
 "metadata": {
  "language_info": {
   "name": "python"
  }
 },
 "nbformat": 4,
 "nbformat_minor": 2
}
