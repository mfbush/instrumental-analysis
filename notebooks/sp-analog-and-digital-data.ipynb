{
 "cells": [
  {
   "cell_type": "code",
   "execution_count": null,
   "metadata": {},
   "outputs": [],
   "source": [
    "import numpy as np\n",
    "import matplotlib as plt\n",
    "plt.style.use('plot.mplstyle')"
   ]
  },
  {
   "cell_type": "markdown",
   "metadata": {},
   "source": [
    "\n",
    "# Analog and Digital Data\n",
    "\n",
    "## Suggested Problems: \n",
    "\n",
    "- 4-1, 4-2, 4-3, 4-7, 4-8, 4-9, 4-11, 4-12"
   ]
  },
  {
   "cell_type": "markdown",
   "metadata": {},
   "source": [
    "\n",
    "## 4-1\n",
    "\n",
    "Convert each of the following decimal numbers to its binary equivalent.\n",
    "\n",
    "Consider the following:\n",
    "| $n$ | $2^n$ |\n",
    "| ---: | ---: |\n",
    "| 0 | 1 |\n",
    "| 1 | 2 |\n",
    "| 2 | 4 |\n",
    "| 3 | 8 |\n",
    "| 4 | 16 |\n",
    "| 5  | 32 |\n",
    "| 6 | 64 |\n",
    "| 7 | 128 |\n",
    "| 8 | 256 |\n",
    "| 9 | 512 |\n",
    "\n",
    "I intentionally added rows to the table until $2^n > 355$.\n",
    "\n",
    "**(a)** $37$\n",
    "\n",
    "$ 37 - 2^5 = 5 $\n",
    "\n",
    "$ 5 < 2^4 $\n",
    "\n",
    "$ 5 < 2^3 $\n",
    "\n",
    "$ 5 - 2^2 = 1 $\n",
    "\n",
    "$ 1 < 2^1 $\n",
    "\n",
    "$ 1 = 2^0 $\n",
    "\n",
    "therefore:\n",
    "\n",
    "$binary \\, equivalent = 100101 $\n",
    "\n",
    "**(b)** $93$\n",
    "\n",
    "$ 93 - 2^6 = 29 $\n",
    "\n",
    "$ 29 - 2^4 = 13 $\n",
    "\n",
    "$ 13 - 2^3 = 5 $\n",
    "\n",
    "$ 5 - 2^2 = 1 $\n",
    "\n",
    "$ 1 - 2^0 = 0 $\n",
    "\n",
    "therefore:\n",
    "\n",
    "$binary \\, equivalent = 1011101 $\n",
    "\n",
    "**(c)** $129$\n",
    "\n",
    "Option 1: Use the approach above.\n",
    "\n",
    "Option 2: Consider $129 = 128 + 1$\n",
    "\n",
    "$ 129 = 2^7 + 2^ 0 $\n",
    "\n",
    "$ 10000000 + 00000001 = 10000001 $\n",
    "\n",
    "**(d)** $355$\n",
    "\n",
    "$binary \\, equivalent = 101100011$\n"
   ]
  },
  {
   "cell_type": "markdown",
   "metadata": {},
   "source": [
    "## 4-2\n",
    "\n",
    "Convert each of the decimal numbers in Problem 4-1 into BCD numbers.\n",
    "\n",
    "Consider the following:\n",
    "\n",
    "| Decimal | Binary |\n",
    "| --- | --- |\n",
    "| 0 | 0000 |\n",
    "| 1 | 0001 |\n",
    "| 2 | 0010 |\n",
    "| 3 | 0011 |\n",
    "| 4 | 0100 |\n",
    "| 5 | 0101 |\n",
    "| 6 | 0110 |\n",
    "| 7 | 0111 |\n",
    "| 8 | 1000 |\n",
    "| 9 | 1001 |\n",
    "\n",
    "**(a)** 37\n",
    "\n",
    "0011 0111\n",
    "\n",
    "**(b)** 93\n",
    "\n",
    "1001 0011\n",
    "\n",
    "**(c)** 129\n",
    "\n",
    "0001 0010 1001\n",
    "\n",
    "**(d)** 355\n",
    "\n",
    "0011 0101 0101"
   ]
  },
  {
   "cell_type": "markdown",
   "metadata": {},
   "source": [
    "## 4-3\n",
    "\n",
    "Based on the results of problems 4-1 and 4-2, which is more efficient in expressing decimal numbers in the fewest number of bits, binary or BCD? Why is the less efficient coding scheme still useful.\n",
    "\n",
    "Binary enables the expression of decimal numbers in the fewest number of bits. In BCD, only values 0000 to 1001 of each four bits are used to encode information; 1011 to 1111 are not used, which makes BCD less efficient with regards to bit usage. However, encoding decimal numbers with BCD and using a lookup table was very fast."
   ]
  },
  {
   "cell_type": "markdown",
   "metadata": {},
   "source": [
    "\n",
    "## 4-7 ##\n",
    "\n",
    "**(a)** $8 + 5$\n",
    "\n",
    "| Decimal | Binary |\n",
    "| ---: | ---: |\n",
    "| 8 | 1000 |\n",
    "| 5 | 0101 |\n",
    "| 13 | 1101 |\n",
    "\n",
    "**(b)** $339 + 25$\n",
    "\n",
    "| Decimal | Binary |\n",
    "| ---: | ---: |\n",
    "| 339 | 101010011|\n",
    "| 25 | 11001 |\n",
    "| 364 | 101101100 |\n",
    "\n"
   ]
  },
  {
   "cell_type": "markdown",
   "metadata": {},
   "source": [
    "\n",
    "## 4-8 ##\n",
    "\n"
   ]
  },
  {
   "cell_type": "markdown",
   "metadata": {},
   "source": [
    "\n",
    "## 4-9 ##"
   ]
  },
  {
   "cell_type": "markdown",
   "metadata": {},
   "source": [
    "\n",
    "## 4-11 ##\n",
    "\n"
   ]
  },
  {
   "cell_type": "markdown",
   "metadata": {},
   "source": [
    "\n",
    "## 4-12 ##"
   ]
  }
 ],
 "metadata": {
  "kernelspec": {
   "display_name": "base",
   "language": "python",
   "name": "python3"
  },
  "language_info": {
   "name": "python",
   "version": "3.10.9"
  }
 },
 "nbformat": 4,
 "nbformat_minor": 2
}
