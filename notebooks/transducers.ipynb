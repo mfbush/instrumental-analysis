{
 "cells": [
  {
   "cell_type": "markdown",
   "metadata": {},
   "source": [
    "## Electrical Components and Circuits\n",
    "### Learning Objectives\n",
    "*At the conclusion of in-class and outside learning, participants will be able to:*\n",
    "- Define a transducer in an analytical instrument.\n",
    "- Using Ohm's law, perform calculations that relate voltage, current, and resistance.\n",
    "- Using the laws of electricity, calculate values for electrical properties in direct-current circuits with resistors in series and parallel.\n",
    "- Describe the properties of an alternating-current circuits, including frequency and amplitude.\n",
    "- Calculate time constants for simple resistor-capacitor circuits. \n",
    "- Compare and contrast high-pass and low-pass filters. Given the properties of a source of noise, select an appropriate filter."
   ]
  },
  {
   "cell_type": "markdown",
   "metadata": {},
   "source": [
    "## Data Domains\n",
    "\n",
    "*Adapted from Skoog:*\n",
    "> The measurement process is aided by a wide variety of devices that convert information from one form to another... Information can be *encoded* (represented) by physical and chemical characteristics and particularly by *electrical signals*, such as current, voltage, and charge. The various modes of encoding information are called *data domains*.\n",
    "\n",
    "*Reproduced from Skoog*:\n",
    "\n",
    "![Data Domains](./transducers-images/004_ch01_Fig02.jpg)"
   ]
  },
  {
   "cell_type": "markdown",
   "metadata": {},
   "source": [
    "## Transducers\n",
    "\n",
    "*From Skoog:*\n",
    "> A transducer is a device that converts chemical or physical information into an electrical\n",
    "signal or the reverse. The most common input transducers convert chemical or physical\n",
    "information into a current, voltage, or charge, and the most common output transducers\n",
    "convert electrical signals into some numerical form.\n",
    "\n",
    "| Instrument | Stimulus | Analytical Information | Sorter | Input Transducer | Data Domain | Output Transducer |\n",
    "| --- |  --- |  --- |  --- |  --- |  --- |  --- | \n",
    "| Spectrophotometer | Lamp | Attenuated light beam | Monochromoter | Photodiode | Electrical Current | Digitizer |\n",
    "| pH meter | Glass electrode | Proton activity | Glass electrode | Glass-calomel electrodes | Electrical Voltage | Digitizer | "
   ]
  },
  {
   "cell_type": "markdown",
   "metadata": {},
   "source": [
    "## Electrical Domains\n",
    "\n",
    "### Analog Signals\n",
    "Information is encoded as the *magnitude* of voltage, current, charge, or power. In analog signals, values of the magnitude are continuous and  an be measured continuously or as specific points in time.\n",
    "\n",
    "### Digital Signals\n",
    "Most modern instrument digitize analog signals, that is, converts continuos values of magnitude to discrete values of magnitude. This process enables the interface with computers and will be the focus a couple of days from now."
   ]
  },
  {
   "cell_type": "markdown",
   "metadata": {},
   "source": [
    "## Laws of Electricity\n",
    "\n",
    "### Ohm's Law\n",
    "\n",
    "$$ V = I \\cdot R$$\n",
    "where $V$ is the potential difference in volts between two points in a circuit, $R$ is the resistance between two points in ohms, and $I$ is the resulting current in ampheres.\n",
    "\n",
    "### Kirchoff's Laws\n",
    "\n",
    "*Current*: The sum of currents in a network of conductors meeting at a point is zero. Essentially, the sum of the currents entering a point must equal of the sum of the currents exiting that point.\n",
    "\n",
    "*Voltage*: The sum of the potential differences (voltages) around any closed loop is zero.\n",
    "\n",
    "### Power Lab\n",
    "\n",
    "$$ P = I \\cdot V = I^2 \\cdot R = \\frac {V^2}{R} $$\n",
    "where $P$ is the power in watts dissipated by a resistive element."
   ]
  },
  {
   "cell_type": "markdown",
   "metadata": {},
   "source": [
    "## Resistor Circuits\n",
    "\n",
    "### Resistors in Series\n",
    "\n",
    "$$ R _{series} = \\sum_{i=1}^{n} R_{i} $$\n",
    "\n",
    "### Resistors in Parallel\n",
    "\n",
    "$$ \\frac{1}{R_{parallel}} = \\sum_{i=1}^{n} \\frac{1}{R_i} $$"
   ]
  },
  {
   "cell_type": "markdown",
   "metadata": {},
   "source": [
    "## Alternating Current Circuits\n",
    "\n",
    "$$ frequency = \\frac{1}{t_p} $$\n",
    "where $t_p$ is the period of the signal.\n",
    "\n",
    "$$ angular \\, frequency = \\frac{2 \\cdot \\pi}{t_p} = 2 \\cdot \\pi \\cdot frequency$$\n",
    "\n",
    "![sine-waves](./transducers-images/11_ch02_Fig07.jpg)\n",
    "\n",
    "**Figure 2.** Sine wave with different amplitudes and with a phase difference of 90 degree or $\\frac{pi}{2}$ radians."
   ]
  },
  {
   "cell_type": "markdown",
   "metadata": {},
   "source": [
    "## Resistor-Capacitor Circuits\n",
    "\n",
    "Capacitance is a property that describes the ability of an object to store electric charge. A capacitor is a device that stores electrical energy by accumulating that charges on two closely spaced surfaces that are insulated from each other. A capacitor can store an electrical charge for a period of time and then provide that charge when needed. \n",
    "\n",
    "$$ time \\. constant = R \\cdot C $$\n",
    "\n",
    "The time constant is a measure of the time required for a capacitor to charge or discharge.\n",
    "\n",
    "![time-constants](./transducers-images/12_ch02_Fig08.jpg)\n",
    "\n",
    "**Figure 3.** (a) A series RC circuit. Time response of circuit when the switch $S$ is (b) in position 1 or (b) in position 2.\n",
    "\n",
    "$$ i = I_{init} \\cdot e^{-\\frac{t}{RC}} $$\n",
    "$$ v_R = V_{intit} \\cdot e^{-\\frac{t}{RC}} $$\n"
   ]
  },
  {
   "cell_type": "markdown",
   "metadata": {},
   "source": [
    "## Filters Based on RC Circuits\n",
    "\n",
    "![rc-filters](./transducers-images/17_ch02_Fig11.jpg)\n",
    "\n",
    "**Figure 4.** Examples of (a) high-pass filter and a (b) low-pass filter."
   ]
  }
 ],
 "metadata": {
  "language_info": {
   "name": "python"
  }
 },
 "nbformat": 4,
 "nbformat_minor": 2
}
